{
 "cells": [
  {
   "cell_type": "code",
   "execution_count": 1,
   "id": "ee94e07e",
   "metadata": {},
   "outputs": [],
   "source": [
    "import pandas as pd"
   ]
  },
  {
   "cell_type": "code",
   "execution_count": 82,
   "id": "3607f630",
   "metadata": {},
   "outputs": [],
   "source": [
    "df = pd.read_csv(\"review.csv\")"
   ]
  },
  {
   "cell_type": "code",
   "execution_count": 74,
   "id": "fe2c586f",
   "metadata": {},
   "outputs": [
    {
     "data": {
      "text/html": [
       "<div>\n",
       "<style scoped>\n",
       "    .dataframe tbody tr th:only-of-type {\n",
       "        vertical-align: middle;\n",
       "    }\n",
       "\n",
       "    .dataframe tbody tr th {\n",
       "        vertical-align: top;\n",
       "    }\n",
       "\n",
       "    .dataframe thead th {\n",
       "        text-align: right;\n",
       "    }\n",
       "</style>\n",
       "<table border=\"1\" class=\"dataframe\">\n",
       "  <thead>\n",
       "    <tr style=\"text-align: right;\">\n",
       "      <th></th>\n",
       "      <th>review</th>\n",
       "      <th>label</th>\n",
       "    </tr>\n",
       "  </thead>\n",
       "  <tbody>\n",
       "    <tr>\n",
       "      <th>0</th>\n",
       "      <td>Such energy and vitality. You just can't go wr...</td>\n",
       "      <td>1</td>\n",
       "    </tr>\n",
       "    <tr>\n",
       "      <th>1</th>\n",
       "      <td>but Thomas Ian Griffith just doesn't have the ...</td>\n",
       "      <td>0</td>\n",
       "    </tr>\n",
       "    <tr>\n",
       "      <th>2</th>\n",
       "      <td>Why this film was only released in 4 states is...</td>\n",
       "      <td>1</td>\n",
       "    </tr>\n",
       "    <tr>\n",
       "      <th>3</th>\n",
       "      <td>I'm not here to tell you \"Armored\" is Kubricki...</td>\n",
       "      <td>1</td>\n",
       "    </tr>\n",
       "    <tr>\n",
       "      <th>4</th>\n",
       "      <td>Most college students find themselves lost in ...</td>\n",
       "      <td>0</td>\n",
       "    </tr>\n",
       "  </tbody>\n",
       "</table>\n",
       "</div>"
      ],
      "text/plain": [
       "                                              review  label\n",
       "0  Such energy and vitality. You just can't go wr...      1\n",
       "1  but Thomas Ian Griffith just doesn't have the ...      0\n",
       "2  Why this film was only released in 4 states is...      1\n",
       "3  I'm not here to tell you \"Armored\" is Kubricki...      1\n",
       "4  Most college students find themselves lost in ...      0"
      ]
     },
     "execution_count": 74,
     "metadata": {},
     "output_type": "execute_result"
    }
   ],
   "source": [
    "df.head(5)"
   ]
  },
  {
   "cell_type": "code",
   "execution_count": 59,
   "id": "15b482cb",
   "metadata": {},
   "outputs": [
    {
     "data": {
      "text/plain": [
       "(1000, 2)"
      ]
     },
     "execution_count": 59,
     "metadata": {},
     "output_type": "execute_result"
    }
   ],
   "source": [
    "df.shape"
   ]
  },
  {
   "cell_type": "markdown",
   "id": "053853f9",
   "metadata": {},
   "source": [
    "# 1.Data Cleaning"
   ]
  },
  {
   "cell_type": "code",
   "execution_count": 60,
   "id": "4a806e92",
   "metadata": {},
   "outputs": [
    {
     "name": "stdout",
     "output_type": "stream",
     "text": [
      "<class 'pandas.core.frame.DataFrame'>\n",
      "RangeIndex: 1000 entries, 0 to 999\n",
      "Data columns (total 2 columns):\n",
      " #   Column  Non-Null Count  Dtype \n",
      "---  ------  --------------  ----- \n",
      " 0   review  1000 non-null   object\n",
      " 1   label   1000 non-null   int64 \n",
      "dtypes: int64(1), object(1)\n",
      "memory usage: 15.8+ KB\n"
     ]
    }
   ],
   "source": [
    "df.info()"
   ]
  },
  {
   "cell_type": "code",
   "execution_count": 64,
   "id": "d057de55",
   "metadata": {},
   "outputs": [
    {
     "data": {
      "text/plain": [
       "review    0\n",
       "label     0\n",
       "dtype: int64"
      ]
     },
     "execution_count": 64,
     "metadata": {},
     "output_type": "execute_result"
    }
   ],
   "source": [
    "df.isnull().sum()"
   ]
  },
  {
   "cell_type": "code",
   "execution_count": 65,
   "id": "09bf471f",
   "metadata": {},
   "outputs": [
    {
     "data": {
      "text/plain": [
       "0"
      ]
     },
     "execution_count": 65,
     "metadata": {},
     "output_type": "execute_result"
    }
   ],
   "source": [
    "df.duplicated().sum()"
   ]
  },
  {
   "cell_type": "markdown",
   "id": "04eede9c",
   "metadata": {},
   "source": [
    "# 2.EDA"
   ]
  },
  {
   "cell_type": "code",
   "execution_count": 66,
   "id": "934aafaf",
   "metadata": {},
   "outputs": [
    {
     "data": {
      "text/html": [
       "<div>\n",
       "<style scoped>\n",
       "    .dataframe tbody tr th:only-of-type {\n",
       "        vertical-align: middle;\n",
       "    }\n",
       "\n",
       "    .dataframe tbody tr th {\n",
       "        vertical-align: top;\n",
       "    }\n",
       "\n",
       "    .dataframe thead th {\n",
       "        text-align: right;\n",
       "    }\n",
       "</style>\n",
       "<table border=\"1\" class=\"dataframe\">\n",
       "  <thead>\n",
       "    <tr style=\"text-align: right;\">\n",
       "      <th></th>\n",
       "      <th>review</th>\n",
       "      <th>label</th>\n",
       "    </tr>\n",
       "  </thead>\n",
       "  <tbody>\n",
       "    <tr>\n",
       "      <th>0</th>\n",
       "      <td>Such energy and vitality. You just can't go wr...</td>\n",
       "      <td>1</td>\n",
       "    </tr>\n",
       "    <tr>\n",
       "      <th>1</th>\n",
       "      <td>but Thomas Ian Griffith just doesn't have the ...</td>\n",
       "      <td>0</td>\n",
       "    </tr>\n",
       "    <tr>\n",
       "      <th>2</th>\n",
       "      <td>Why this film was only released in 4 states is...</td>\n",
       "      <td>1</td>\n",
       "    </tr>\n",
       "    <tr>\n",
       "      <th>3</th>\n",
       "      <td>I'm not here to tell you \"Armored\" is Kubricki...</td>\n",
       "      <td>1</td>\n",
       "    </tr>\n",
       "    <tr>\n",
       "      <th>4</th>\n",
       "      <td>Most college students find themselves lost in ...</td>\n",
       "      <td>0</td>\n",
       "    </tr>\n",
       "  </tbody>\n",
       "</table>\n",
       "</div>"
      ],
      "text/plain": [
       "                                              review  label\n",
       "0  Such energy and vitality. You just can't go wr...      1\n",
       "1  but Thomas Ian Griffith just doesn't have the ...      0\n",
       "2  Why this film was only released in 4 states is...      1\n",
       "3  I'm not here to tell you \"Armored\" is Kubricki...      1\n",
       "4  Most college students find themselves lost in ...      0"
      ]
     },
     "execution_count": 66,
     "metadata": {},
     "output_type": "execute_result"
    }
   ],
   "source": [
    "df.head()"
   ]
  },
  {
   "cell_type": "code",
   "execution_count": 67,
   "id": "d24e5299",
   "metadata": {},
   "outputs": [
    {
     "data": {
      "text/plain": [
       "0    514\n",
       "1    486\n",
       "Name: label, dtype: int64"
      ]
     },
     "execution_count": 67,
     "metadata": {},
     "output_type": "execute_result"
    }
   ],
   "source": [
    "df['label'].value_counts()"
   ]
  },
  {
   "cell_type": "code",
   "execution_count": 68,
   "id": "ab28f1b8",
   "metadata": {},
   "outputs": [
    {
     "data": {
      "image/png": "[encoded data removed]",
      "text/plain": [
       "<Figure size 432x288 with 1 Axes>"
      ]
     },
     "metadata": {},
     "output_type": "display_data"
    }
   ],
   "source": [
    "import matplotlib.pyplot as plt\n",
    "plt.pie(df['label'].value_counts(),labels=['0','1'],autopct=\"%0.2f\")\n",
    "plt.show()"
   ]
  },
  {
   "cell_type": "code",
   "execution_count": null,
   "id": "835498c6",
   "metadata": {},
   "outputs": [],
   "source": [
    "#data is balanced"
   ]
  },
  {
   "cell_type": "code",
   "execution_count": 83,
   "id": "c6b712ab",
   "metadata": {},
   "outputs": [],
   "source": [
    "#number of character\n",
    "df['num_characters_review'] = df['review'].apply(len)"
   ]
  },
  {
   "cell_type": "code",
   "execution_count": 84,
   "id": "80094d45",
   "metadata": {},
   "outputs": [
    {
     "data": {
      "text/html": [
       "<div>\n",
       "<style scoped>\n",
       "    .dataframe tbody tr th:only-of-type {\n",
       "        vertical-align: middle;\n",
       "    }\n",
       "\n",
       "    .dataframe tbody tr th {\n",
       "        vertical-align: top;\n",
       "    }\n",
       "\n",
       "    .dataframe thead th {\n",
       "        text-align: right;\n",
       "    }\n",
       "</style>\n",
       "<table border=\"1\" class=\"dataframe\">\n",
       "  <thead>\n",
       "    <tr style=\"text-align: right;\">\n",
       "      <th></th>\n",
       "      <th>review</th>\n",
       "      <th>label</th>\n",
       "      <th>num_characters_review</th>\n",
       "    </tr>\n",
       "  </thead>\n",
       "  <tbody>\n",
       "    <tr>\n",
       "      <th>0</th>\n",
       "      <td>Such energy and vitality. You just can't go wr...</td>\n",
       "      <td>1</td>\n",
       "      <td>256</td>\n",
       "    </tr>\n",
       "    <tr>\n",
       "      <th>1</th>\n",
       "      <td>but Thomas Ian Griffith just doesn't have the ...</td>\n",
       "      <td>0</td>\n",
       "      <td>482</td>\n",
       "    </tr>\n",
       "    <tr>\n",
       "      <th>2</th>\n",
       "      <td>Why this film was only released in 4 states is...</td>\n",
       "      <td>1</td>\n",
       "      <td>1343</td>\n",
       "    </tr>\n",
       "    <tr>\n",
       "      <th>3</th>\n",
       "      <td>I'm not here to tell you \"Armored\" is Kubricki...</td>\n",
       "      <td>1</td>\n",
       "      <td>2806</td>\n",
       "    </tr>\n",
       "    <tr>\n",
       "      <th>4</th>\n",
       "      <td>Most college students find themselves lost in ...</td>\n",
       "      <td>0</td>\n",
       "      <td>1118</td>\n",
       "    </tr>\n",
       "  </tbody>\n",
       "</table>\n",
       "</div>"
      ],
      "text/plain": [
       "                                              review  label  \\\n",
       "0  Such energy and vitality. You just can't go wr...      1   \n",
       "1  but Thomas Ian Griffith just doesn't have the ...      0   \n",
       "2  Why this film was only released in 4 states is...      1   \n",
       "3  I'm not here to tell you \"Armored\" is Kubricki...      1   \n",
       "4  Most college students find themselves lost in ...      0   \n",
       "\n",
       "   num_characters_review  \n",
       "0                    256  \n",
       "1                    482  \n",
       "2                   1343  \n",
       "3                   2806  \n",
       "4                   1118  "
      ]
     },
     "execution_count": 84,
     "metadata": {},
     "output_type": "execute_result"
    }
   ],
   "source": [
    "df.head()"
   ]
  },
  {
   "cell_type": "code",
   "execution_count": 85,
   "id": "142524ba",
   "metadata": {},
   "outputs": [],
   "source": [
    "#number of words\n",
    "df['num_words_review'] = df['review'].apply(lambda x:len(nltk.word_tokenize(x)))"
   ]
  },
  {
   "cell_type": "code",
   "execution_count": 86,
   "id": "83fbabdc",
   "metadata": {},
   "outputs": [
    {
     "data": {
      "text/html": [
       "<div>\n",
       "<style scoped>\n",
       "    .dataframe tbody tr th:only-of-type {\n",
       "        vertical-align: middle;\n",
       "    }\n",
       "\n",
       "    .dataframe tbody tr th {\n",
       "        vertical-align: top;\n",
       "    }\n",
       "\n",
       "    .dataframe thead th {\n",
       "        text-align: right;\n",
       "    }\n",
       "</style>\n",
       "<table border=\"1\" class=\"dataframe\">\n",
       "  <thead>\n",
       "    <tr style=\"text-align: right;\">\n",
       "      <th></th>\n",
       "      <th>review</th>\n",
       "      <th>label</th>\n",
       "      <th>num_characters_review</th>\n",
       "      <th>num_words_review</th>\n",
       "    </tr>\n",
       "  </thead>\n",
       "  <tbody>\n",
       "    <tr>\n",
       "      <th>0</th>\n",
       "      <td>Such energy and vitality. You just can't go wr...</td>\n",
       "      <td>1</td>\n",
       "      <td>256</td>\n",
       "      <td>52</td>\n",
       "    </tr>\n",
       "    <tr>\n",
       "      <th>1</th>\n",
       "      <td>but Thomas Ian Griffith just doesn't have the ...</td>\n",
       "      <td>0</td>\n",
       "      <td>482</td>\n",
       "      <td>102</td>\n",
       "    </tr>\n",
       "    <tr>\n",
       "      <th>2</th>\n",
       "      <td>Why this film was only released in 4 states is...</td>\n",
       "      <td>1</td>\n",
       "      <td>1343</td>\n",
       "      <td>280</td>\n",
       "    </tr>\n",
       "    <tr>\n",
       "      <th>3</th>\n",
       "      <td>I'm not here to tell you \"Armored\" is Kubricki...</td>\n",
       "      <td>1</td>\n",
       "      <td>2806</td>\n",
       "      <td>655</td>\n",
       "    </tr>\n",
       "    <tr>\n",
       "      <th>4</th>\n",
       "      <td>Most college students find themselves lost in ...</td>\n",
       "      <td>0</td>\n",
       "      <td>1118</td>\n",
       "      <td>207</td>\n",
       "    </tr>\n",
       "  </tbody>\n",
       "</table>\n",
       "</div>"
      ],
      "text/plain": [
       "                                              review  label  \\\n",
       "0  Such energy and vitality. You just can't go wr...      1   \n",
       "1  but Thomas Ian Griffith just doesn't have the ...      0   \n",
       "2  Why this film was only released in 4 states is...      1   \n",
       "3  I'm not here to tell you \"Armored\" is Kubricki...      1   \n",
       "4  Most college students find themselves lost in ...      0   \n",
       "\n",
       "   num_characters_review  num_words_review  \n",
       "0                    256                52  \n",
       "1                    482               102  \n",
       "2                   1343               280  \n",
       "3                   2806               655  \n",
       "4                   1118               207  "
      ]
     },
     "execution_count": 86,
     "metadata": {},
     "output_type": "execute_result"
    }
   ],
   "source": [
    "df.head()"
   ]
  },
  {
   "cell_type": "code",
   "execution_count": 87,
   "id": "523b5267",
   "metadata": {},
   "outputs": [],
   "source": [
    "#number of sentences\n",
    "df['num_sentence_review'] = df['review'].apply(lambda x:len(nltk.sent_tokenize(x)))"
   ]
  },
  {
   "cell_type": "code",
   "execution_count": 88,
   "id": "1b16a167",
   "metadata": {},
   "outputs": [
    {
     "data": {
      "text/html": [
       "<div>\n",
       "<style scoped>\n",
       "    .dataframe tbody tr th:only-of-type {\n",
       "        vertical-align: middle;\n",
       "    }\n",
       "\n",
       "    .dataframe tbody tr th {\n",
       "        vertical-align: top;\n",
       "    }\n",
       "\n",
       "    .dataframe thead th {\n",
       "        text-align: right;\n",
       "    }\n",
       "</style>\n",
       "<table border=\"1\" class=\"dataframe\">\n",
       "  <thead>\n",
       "    <tr style=\"text-align: right;\">\n",
       "      <th></th>\n",
       "      <th>review</th>\n",
       "      <th>label</th>\n",
       "      <th>num_characters_review</th>\n",
       "      <th>num_words_review</th>\n",
       "      <th>num_sentence_review</th>\n",
       "    </tr>\n",
       "  </thead>\n",
       "  <tbody>\n",
       "    <tr>\n",
       "      <th>0</th>\n",
       "      <td>Such energy and vitality. You just can't go wr...</td>\n",
       "      <td>1</td>\n",
       "      <td>256</td>\n",
       "      <td>52</td>\n",
       "      <td>4</td>\n",
       "    </tr>\n",
       "    <tr>\n",
       "      <th>1</th>\n",
       "      <td>but Thomas Ian Griffith just doesn't have the ...</td>\n",
       "      <td>0</td>\n",
       "      <td>482</td>\n",
       "      <td>102</td>\n",
       "      <td>5</td>\n",
       "    </tr>\n",
       "    <tr>\n",
       "      <th>2</th>\n",
       "      <td>Why this film was only released in 4 states is...</td>\n",
       "      <td>1</td>\n",
       "      <td>1343</td>\n",
       "      <td>280</td>\n",
       "      <td>16</td>\n",
       "    </tr>\n",
       "    <tr>\n",
       "      <th>3</th>\n",
       "      <td>I'm not here to tell you \"Armored\" is Kubricki...</td>\n",
       "      <td>1</td>\n",
       "      <td>2806</td>\n",
       "      <td>655</td>\n",
       "      <td>42</td>\n",
       "    </tr>\n",
       "    <tr>\n",
       "      <th>4</th>\n",
       "      <td>Most college students find themselves lost in ...</td>\n",
       "      <td>0</td>\n",
       "      <td>1118</td>\n",
       "      <td>207</td>\n",
       "      <td>6</td>\n",
       "    </tr>\n",
       "  </tbody>\n",
       "</table>\n",
       "</div>"
      ],
      "text/plain": [
       "                                              review  label  \\\n",
       "0  Such energy and vitality. You just can't go wr...      1   \n",
       "1  but Thomas Ian Griffith just doesn't have the ...      0   \n",
       "2  Why this film was only released in 4 states is...      1   \n",
       "3  I'm not here to tell you \"Armored\" is Kubricki...      1   \n",
       "4  Most college students find themselves lost in ...      0   \n",
       "\n",
       "   num_characters_review  num_words_review  num_sentence_review  \n",
       "0                    256                52                    4  \n",
       "1                    482               102                    5  \n",
       "2                   1343               280                   16  \n",
       "3                   2806               655                   42  \n",
       "4                   1118               207                    6  "
      ]
     },
     "execution_count": 88,
     "metadata": {},
     "output_type": "execute_result"
    }
   ],
   "source": [
    "df.head()"
   ]
  },
  {
   "cell_type": "code",
   "execution_count": 89,
   "id": "77656225",
   "metadata": {},
   "outputs": [
    {
     "data": {
      "text/html": [
       "<div>\n",
       "<style scoped>\n",
       "    .dataframe tbody tr th:only-of-type {\n",
       "        vertical-align: middle;\n",
       "    }\n",
       "\n",
       "    .dataframe tbody tr th {\n",
       "        vertical-align: top;\n",
       "    }\n",
       "\n",
       "    .dataframe thead th {\n",
       "        text-align: right;\n",
       "    }\n",
       "</style>\n",
       "<table border=\"1\" class=\"dataframe\">\n",
       "  <thead>\n",
       "    <tr style=\"text-align: right;\">\n",
       "      <th></th>\n",
       "      <th>review</th>\n",
       "      <th>num_characters_review</th>\n",
       "      <th>num_words_review</th>\n",
       "      <th>num_sentence_review</th>\n",
       "      <th>label</th>\n",
       "    </tr>\n",
       "  </thead>\n",
       "  <tbody>\n",
       "    <tr>\n",
       "      <th>0</th>\n",
       "      <td>Such energy and vitality. You just can't go wr...</td>\n",
       "      <td>256</td>\n",
       "      <td>52</td>\n",
       "      <td>4</td>\n",
       "      <td>1</td>\n",
       "    </tr>\n",
       "    <tr>\n",
       "      <th>1</th>\n",
       "      <td>but Thomas Ian Griffith just doesn't have the ...</td>\n",
       "      <td>482</td>\n",
       "      <td>102</td>\n",
       "      <td>5</td>\n",
       "      <td>0</td>\n",
       "    </tr>\n",
       "    <tr>\n",
       "      <th>2</th>\n",
       "      <td>Why this film was only released in 4 states is...</td>\n",
       "      <td>1343</td>\n",
       "      <td>280</td>\n",
       "      <td>16</td>\n",
       "      <td>1</td>\n",
       "    </tr>\n",
       "    <tr>\n",
       "      <th>3</th>\n",
       "      <td>I'm not here to tell you \"Armored\" is Kubricki...</td>\n",
       "      <td>2806</td>\n",
       "      <td>655</td>\n",
       "      <td>42</td>\n",
       "      <td>1</td>\n",
       "    </tr>\n",
       "    <tr>\n",
       "      <th>4</th>\n",
       "      <td>Most college students find themselves lost in ...</td>\n",
       "      <td>1118</td>\n",
       "      <td>207</td>\n",
       "      <td>6</td>\n",
       "      <td>0</td>\n",
       "    </tr>\n",
       "  </tbody>\n",
       "</table>\n",
       "</div>"
      ],
      "text/plain": [
       "                                              review  num_characters_review  \\\n",
       "0  Such energy and vitality. You just can't go wr...                    256   \n",
       "1  but Thomas Ian Griffith just doesn't have the ...                    482   \n",
       "2  Why this film was only released in 4 states is...                   1343   \n",
       "3  I'm not here to tell you \"Armored\" is Kubricki...                   2806   \n",
       "4  Most college students find themselves lost in ...                   1118   \n",
       "\n",
       "   num_words_review  num_sentence_review  label  \n",
       "0                52                    4      1  \n",
       "1               102                    5      0  \n",
       "2               280                   16      1  \n",
       "3               655                   42      1  \n",
       "4               207                    6      0  "
      ]
     },
     "execution_count": 89,
     "metadata": {},
     "output_type": "execute_result"
    }
   ],
   "source": [
    "#taking label column to last\n",
    "last_column = df.pop('label')\n",
    "df.insert(4, 'label', last_column)\n",
    "df.head()"
   ]
  },
  {
   "cell_type": "code",
   "execution_count": 91,
   "id": "8962af68",
   "metadata": {},
   "outputs": [
    {
     "data": {
      "text/plain": [
       "Index(['review', 'num_characters_review', 'num_words_review',\n",
       "       'num_sentence_review', 'label'],\n",
       "      dtype='object')"
      ]
     },
     "execution_count": 91,
     "metadata": {},
     "output_type": "execute_result"
    }
   ],
   "source": [
    "df.columns"
   ]
  },
  {
   "cell_type": "code",
   "execution_count": 93,
   "id": "c21c2354",
   "metadata": {},
   "outputs": [
    {
     "data": {
      "text/html": [
       "<div>\n",
       "<style scoped>\n",
       "    .dataframe tbody tr th:only-of-type {\n",
       "        vertical-align: middle;\n",
       "    }\n",
       "\n",
       "    .dataframe tbody tr th {\n",
       "        vertical-align: top;\n",
       "    }\n",
       "\n",
       "    .dataframe thead th {\n",
       "        text-align: right;\n",
       "    }\n",
       "</style>\n",
       "<table border=\"1\" class=\"dataframe\">\n",
       "  <thead>\n",
       "    <tr style=\"text-align: right;\">\n",
       "      <th></th>\n",
       "      <th>num_characters_review</th>\n",
       "      <th>num_words_review</th>\n",
       "      <th>num_sentence_review</th>\n",
       "    </tr>\n",
       "  </thead>\n",
       "  <tbody>\n",
       "    <tr>\n",
       "      <th>count</th>\n",
       "      <td>1000.000000</td>\n",
       "      <td>1000.000000</td>\n",
       "      <td>1000.000000</td>\n",
       "    </tr>\n",
       "    <tr>\n",
       "      <th>mean</th>\n",
       "      <td>1309.804000</td>\n",
       "      <td>280.068000</td>\n",
       "      <td>10.717000</td>\n",
       "    </tr>\n",
       "    <tr>\n",
       "      <th>std</th>\n",
       "      <td>1001.632498</td>\n",
       "      <td>211.662383</td>\n",
       "      <td>7.651631</td>\n",
       "    </tr>\n",
       "    <tr>\n",
       "      <th>min</th>\n",
       "      <td>146.000000</td>\n",
       "      <td>34.000000</td>\n",
       "      <td>1.000000</td>\n",
       "    </tr>\n",
       "    <tr>\n",
       "      <th>25%</th>\n",
       "      <td>698.750000</td>\n",
       "      <td>151.000000</td>\n",
       "      <td>6.000000</td>\n",
       "    </tr>\n",
       "    <tr>\n",
       "      <th>50%</th>\n",
       "      <td>949.000000</td>\n",
       "      <td>205.000000</td>\n",
       "      <td>9.000000</td>\n",
       "    </tr>\n",
       "    <tr>\n",
       "      <th>75%</th>\n",
       "      <td>1535.500000</td>\n",
       "      <td>331.000000</td>\n",
       "      <td>13.000000</td>\n",
       "    </tr>\n",
       "    <tr>\n",
       "      <th>max</th>\n",
       "      <td>7126.000000</td>\n",
       "      <td>1391.000000</td>\n",
       "      <td>59.000000</td>\n",
       "    </tr>\n",
       "  </tbody>\n",
       "</table>\n",
       "</div>"
      ],
      "text/plain": [
       "       num_characters_review  num_words_review  num_sentence_review\n",
       "count            1000.000000       1000.000000          1000.000000\n",
       "mean             1309.804000        280.068000            10.717000\n",
       "std              1001.632498        211.662383             7.651631\n",
       "min               146.000000         34.000000             1.000000\n",
       "25%               698.750000        151.000000             6.000000\n",
       "50%               949.000000        205.000000             9.000000\n",
       "75%              1535.500000        331.000000            13.000000\n",
       "max              7126.000000       1391.000000            59.000000"
      ]
     },
     "execution_count": 93,
     "metadata": {},
     "output_type": "execute_result"
    }
   ],
   "source": [
    "df[['num_characters_review', 'num_words_review','num_sentence_review']].describe()"
   ]
  },
  {
   "cell_type": "code",
   "execution_count": 94,
   "id": "72cb114c",
   "metadata": {},
   "outputs": [
    {
     "data": {
      "text/html": [
       "<div>\n",
       "<style scoped>\n",
       "    .dataframe tbody tr th:only-of-type {\n",
       "        vertical-align: middle;\n",
       "    }\n",
       "\n",
       "    .dataframe tbody tr th {\n",
       "        vertical-align: top;\n",
       "    }\n",
       "\n",
       "    .dataframe thead th {\n",
       "        text-align: right;\n",
       "    }\n",
       "</style>\n",
       "<table border=\"1\" class=\"dataframe\">\n",
       "  <thead>\n",
       "    <tr style=\"text-align: right;\">\n",
       "      <th></th>\n",
       "      <th>num_characters_review</th>\n",
       "      <th>num_words_review</th>\n",
       "      <th>num_sentence_review</th>\n",
       "    </tr>\n",
       "  </thead>\n",
       "  <tbody>\n",
       "    <tr>\n",
       "      <th>count</th>\n",
       "      <td>514.000000</td>\n",
       "      <td>514.000000</td>\n",
       "      <td>514.000000</td>\n",
       "    </tr>\n",
       "    <tr>\n",
       "      <th>mean</th>\n",
       "      <td>1264.278210</td>\n",
       "      <td>273.260700</td>\n",
       "      <td>10.801556</td>\n",
       "    </tr>\n",
       "    <tr>\n",
       "      <th>std</th>\n",
       "      <td>947.136148</td>\n",
       "      <td>205.943628</td>\n",
       "      <td>7.834765</td>\n",
       "    </tr>\n",
       "    <tr>\n",
       "      <th>min</th>\n",
       "      <td>164.000000</td>\n",
       "      <td>39.000000</td>\n",
       "      <td>1.000000</td>\n",
       "    </tr>\n",
       "    <tr>\n",
       "      <th>25%</th>\n",
       "      <td>709.000000</td>\n",
       "      <td>155.000000</td>\n",
       "      <td>6.000000</td>\n",
       "    </tr>\n",
       "    <tr>\n",
       "      <th>50%</th>\n",
       "      <td>950.500000</td>\n",
       "      <td>203.000000</td>\n",
       "      <td>9.000000</td>\n",
       "    </tr>\n",
       "    <tr>\n",
       "      <th>75%</th>\n",
       "      <td>1415.750000</td>\n",
       "      <td>308.000000</td>\n",
       "      <td>13.000000</td>\n",
       "    </tr>\n",
       "    <tr>\n",
       "      <th>max</th>\n",
       "      <td>5740.000000</td>\n",
       "      <td>1222.000000</td>\n",
       "      <td>59.000000</td>\n",
       "    </tr>\n",
       "  </tbody>\n",
       "</table>\n",
       "</div>"
      ],
      "text/plain": [
       "       num_characters_review  num_words_review  num_sentence_review\n",
       "count             514.000000        514.000000           514.000000\n",
       "mean             1264.278210        273.260700            10.801556\n",
       "std               947.136148        205.943628             7.834765\n",
       "min               164.000000         39.000000             1.000000\n",
       "25%               709.000000        155.000000             6.000000\n",
       "50%               950.500000        203.000000             9.000000\n",
       "75%              1415.750000        308.000000            13.000000\n",
       "max              5740.000000       1222.000000            59.000000"
      ]
     },
     "execution_count": 94,
     "metadata": {},
     "output_type": "execute_result"
    }
   ],
   "source": [
    "#not recommended\n",
    "df[df['label']==0][['num_characters_review', 'num_words_review','num_sentence_review']].describe()"
   ]
  },
  {
   "cell_type": "code",
   "execution_count": 95,
   "id": "f83e6774",
   "metadata": {},
   "outputs": [
    {
     "data": {
      "text/html": [
       "<div>\n",
       "<style scoped>\n",
       "    .dataframe tbody tr th:only-of-type {\n",
       "        vertical-align: middle;\n",
       "    }\n",
       "\n",
       "    .dataframe tbody tr th {\n",
       "        vertical-align: top;\n",
       "    }\n",
       "\n",
       "    .dataframe thead th {\n",
       "        text-align: right;\n",
       "    }\n",
       "</style>\n",
       "<table border=\"1\" class=\"dataframe\">\n",
       "  <thead>\n",
       "    <tr style=\"text-align: right;\">\n",
       "      <th></th>\n",
       "      <th>num_characters_review</th>\n",
       "      <th>num_words_review</th>\n",
       "      <th>num_sentence_review</th>\n",
       "    </tr>\n",
       "  </thead>\n",
       "  <tbody>\n",
       "    <tr>\n",
       "      <th>count</th>\n",
       "      <td>486.000000</td>\n",
       "      <td>486.000000</td>\n",
       "      <td>486.000000</td>\n",
       "    </tr>\n",
       "    <tr>\n",
       "      <th>mean</th>\n",
       "      <td>1357.952675</td>\n",
       "      <td>287.267490</td>\n",
       "      <td>10.627572</td>\n",
       "    </tr>\n",
       "    <tr>\n",
       "      <th>std</th>\n",
       "      <td>1055.058581</td>\n",
       "      <td>217.527812</td>\n",
       "      <td>7.460078</td>\n",
       "    </tr>\n",
       "    <tr>\n",
       "      <th>min</th>\n",
       "      <td>146.000000</td>\n",
       "      <td>34.000000</td>\n",
       "      <td>1.000000</td>\n",
       "    </tr>\n",
       "    <tr>\n",
       "      <th>25%</th>\n",
       "      <td>681.000000</td>\n",
       "      <td>146.250000</td>\n",
       "      <td>6.000000</td>\n",
       "    </tr>\n",
       "    <tr>\n",
       "      <th>50%</th>\n",
       "      <td>947.500000</td>\n",
       "      <td>207.500000</td>\n",
       "      <td>9.000000</td>\n",
       "    </tr>\n",
       "    <tr>\n",
       "      <th>75%</th>\n",
       "      <td>1729.000000</td>\n",
       "      <td>370.000000</td>\n",
       "      <td>13.000000</td>\n",
       "    </tr>\n",
       "    <tr>\n",
       "      <th>max</th>\n",
       "      <td>7126.000000</td>\n",
       "      <td>1391.000000</td>\n",
       "      <td>52.000000</td>\n",
       "    </tr>\n",
       "  </tbody>\n",
       "</table>\n",
       "</div>"
      ],
      "text/plain": [
       "       num_characters_review  num_words_review  num_sentence_review\n",
       "count             486.000000        486.000000           486.000000\n",
       "mean             1357.952675        287.267490            10.627572\n",
       "std              1055.058581        217.527812             7.460078\n",
       "min               146.000000         34.000000             1.000000\n",
       "25%               681.000000        146.250000             6.000000\n",
       "50%               947.500000        207.500000             9.000000\n",
       "75%              1729.000000        370.000000            13.000000\n",
       "max              7126.000000       1391.000000            52.000000"
      ]
     },
     "execution_count": 95,
     "metadata": {},
     "output_type": "execute_result"
    }
   ],
   "source": [
    "#recommended\n",
    "df[df['label']==1][['num_characters_review', 'num_words_review','num_sentence_review']].describe()"
   ]
  },
  {
   "cell_type": "code",
   "execution_count": 98,
   "id": "fcf717c0",
   "metadata": {},
   "outputs": [],
   "source": [
    "import seaborn as sns"
   ]
  },
  {
   "cell_type": "code",
   "execution_count": 100,
   "id": "66ddd64d",
   "metadata": {},
   "outputs": [
    {
     "data": {
      "text/plain": [
       "<AxesSubplot:xlabel='num_characters_review', ylabel='Count'>"
      ]
     },
     "execution_count": 100,
     "metadata": {},
     "output_type": "execute_result"
    },
    {
     "data": {
      "image/png": "[encoded data removed]",
      "text/plain": [
       "<Figure size 720x360 with 1 Axes>"
      ]
     },
     "metadata": {
      "needs_background": "light"
     },
     "output_type": "display_data"
    }
   ],
   "source": [
    "plt.figure(figsize=(10,5))\n",
    "sns.histplot(df[df['label'] == 0]['num_characters_review'])\n",
    "sns.histplot(df[df['label'] == 1]['num_characters_review'],color='red')"
   ]
  },
  {
   "cell_type": "code",
   "execution_count": 101,
   "id": "49834caf",
   "metadata": {},
   "outputs": [
    {
     "data": {
      "text/plain": [
       "<AxesSubplot:xlabel='num_words_review', ylabel='Count'>"
      ]
     },
     "execution_count": 101,
     "metadata": {},
     "output_type": "execute_result"
    },
    {
     "data": {
      "image/png": "[encoded data removed]",
      "text/plain": [
       "<Figure size 720x360 with 1 Axes>"
      ]
     },
     "metadata": {
      "needs_background": "light"
     },
     "output_type": "display_data"
    }
   ],
   "source": [
    "plt.figure(figsize=(10,5))\n",
    "sns.histplot(df[df['label'] == 0]['num_words_review'])\n",
    "sns.histplot(df[df['label'] == 1]['num_words_review'],color='red')"
   ]
  },
  {
   "cell_type": "code",
   "execution_count": 102,
   "id": "c80d0213",
   "metadata": {},
   "outputs": [
    {
     "data": {
      "text/plain": [
       "<seaborn.axisgrid.PairGrid at 0x28a404ca548>"
      ]
     },
     "execution_count": 102,
     "metadata": {},
     "output_type": "execute_result"
    },
    {
     "data": {
      "image/png": "[encoded data removed]",
      "text/plain": [
       "<Figure size 582.375x540 with 12 Axes>"
      ]
     },
     "metadata": {
      "needs_background": "light"
     },
     "output_type": "display_data"
    }
   ],
   "source": [
    "sns.pairplot(df,hue='label')"
   ]
  },
  {
   "cell_type": "code",
   "execution_count": 103,
   "id": "760e2bd5",
   "metadata": {},
   "outputs": [
    {
     "data": {
      "text/plain": [
       "<AxesSubplot:>"
      ]
     },
     "execution_count": 103,
     "metadata": {},
     "output_type": "execute_result"
    },
    {
     "data": {
      "image/png": "[encoded data removed]",
      "text/plain": [
       "<Figure size 432x288 with 2 Axes>"
      ]
     },
     "metadata": {
      "needs_background": "light"
     },
     "output_type": "display_data"
    }
   ],
   "source": [
    "sns.heatmap(df.corr(),annot=True)"
   ]
  },
  {
   "cell_type": "markdown",
   "id": "33cf8b34",
   "metadata": {},
   "source": [
    "# 3.Data Preprocessing\n"
   ]
  },
  {
   "cell_type": "code",
   "execution_count": 104,
   "id": "2f4b814b",
   "metadata": {},
   "outputs": [
    {
     "name": "stderr",
     "output_type": "stream",
     "text": [
      "[nltk_data] Downloading package stopwords to C:\\Users\\Sumit Kumar\n",
      "[nltk_data]     Sahoo\\AppData\\Roaming\\nltk_data...\n",
      "[nltk_data]   Package stopwords is already up-to-date!\n"
     ]
    }
   ],
   "source": [
    "import re\n",
    "import nltk\n",
    "nltk.download('stopwords')\n",
    "from nltk.corpus import stopwords\n",
    "from nltk.stem.porter import PorterStemmer"
   ]
  },
  {
   "cell_type": "code",
   "execution_count": 114,
   "id": "f160c9f4",
   "metadata": {},
   "outputs": [],
   "source": [
    "def transform_review(movie_review):\n",
    "    review = re.sub('[^a-zA-Z]', ' ', movie_review)\n",
    "    review = review.lower()\n",
    "    review = review.split()\n",
    "    ps = PorterStemmer()\n",
    "    all_stopwords = stopwords.words('english')\n",
    "    all_stopwords.remove('not')\n",
    "    review = [ps.stem(word) for word in review if word not in all_stopwords]\n",
    "    review = ' '.join(review)\n",
    "    return review    "
   ]
  },
  {
   "cell_type": "code",
   "execution_count": 115,
   "id": "e9a8693f",
   "metadata": {},
   "outputs": [
    {
     "data": {
      "text/plain": [
       "'energi vital go wrong busbi berkley film certainli must best cours choreographi wonder also banterbetween cagney blondel color delight miss one'"
      ]
     },
     "execution_count": 115,
     "metadata": {},
     "output_type": "execute_result"
    }
   ],
   "source": [
    "transform_review(\"Such energy and vitality. You just can't go wrong with Busby Berkley films and this certainly must be his best. Of course the choreography is wonderful, but also the banterbetween Cagney and Blondell is so colorful and such a delight. Don't miss this one. \")"
   ]
  },
  {
   "cell_type": "code",
   "execution_count": 116,
   "id": "fe5c9854",
   "metadata": {},
   "outputs": [],
   "source": [
    "df['transformed_review'] = df['review'].apply(transform_review)"
   ]
  },
  {
   "cell_type": "code",
   "execution_count": 117,
   "id": "1ae05cb7",
   "metadata": {},
   "outputs": [
    {
     "data": {
      "text/html": [
       "<div>\n",
       "<style scoped>\n",
       "    .dataframe tbody tr th:only-of-type {\n",
       "        vertical-align: middle;\n",
       "    }\n",
       "\n",
       "    .dataframe tbody tr th {\n",
       "        vertical-align: top;\n",
       "    }\n",
       "\n",
       "    .dataframe thead th {\n",
       "        text-align: right;\n",
       "    }\n",
       "</style>\n",
       "<table border=\"1\" class=\"dataframe\">\n",
       "  <thead>\n",
       "    <tr style=\"text-align: right;\">\n",
       "      <th></th>\n",
       "      <th>review</th>\n",
       "      <th>num_characters_review</th>\n",
       "      <th>num_words_review</th>\n",
       "      <th>num_sentence_review</th>\n",
       "      <th>label</th>\n",
       "      <th>transformed_review</th>\n",
       "    </tr>\n",
       "  </thead>\n",
       "  <tbody>\n",
       "    <tr>\n",
       "      <th>0</th>\n",
       "      <td>Such energy and vitality. You just can't go wr...</td>\n",
       "      <td>256</td>\n",
       "      <td>52</td>\n",
       "      <td>4</td>\n",
       "      <td>1</td>\n",
       "      <td>energi vital go wrong busbi berkley film certa...</td>\n",
       "    </tr>\n",
       "    <tr>\n",
       "      <th>1</th>\n",
       "      <td>but Thomas Ian Griffith just doesn't have the ...</td>\n",
       "      <td>482</td>\n",
       "      <td>102</td>\n",
       "      <td>5</td>\n",
       "      <td>0</td>\n",
       "      <td>thoma ian griffith polish big buck actor grant...</td>\n",
       "    </tr>\n",
       "    <tr>\n",
       "      <th>2</th>\n",
       "      <td>Why this film was only released in 4 states is...</td>\n",
       "      <td>1343</td>\n",
       "      <td>280</td>\n",
       "      <td>16</td>\n",
       "      <td>1</td>\n",
       "      <td>film releas state beyond thought film divin st...</td>\n",
       "    </tr>\n",
       "    <tr>\n",
       "      <th>3</th>\n",
       "      <td>I'm not here to tell you \"Armored\" is Kubricki...</td>\n",
       "      <td>2806</td>\n",
       "      <td>655</td>\n",
       "      <td>42</td>\n",
       "      <td>1</td>\n",
       "      <td>not tell armor kubrickian hitchcockian fellini...</td>\n",
       "    </tr>\n",
       "    <tr>\n",
       "      <th>4</th>\n",
       "      <td>Most college students find themselves lost in ...</td>\n",
       "      <td>1118</td>\n",
       "      <td>207</td>\n",
       "      <td>6</td>\n",
       "      <td>0</td>\n",
       "      <td>colleg student find lost bubbl academia cut co...</td>\n",
       "    </tr>\n",
       "  </tbody>\n",
       "</table>\n",
       "</div>"
      ],
      "text/plain": [
       "                                              review  num_characters_review  \\\n",
       "0  Such energy and vitality. You just can't go wr...                    256   \n",
       "1  but Thomas Ian Griffith just doesn't have the ...                    482   \n",
       "2  Why this film was only released in 4 states is...                   1343   \n",
       "3  I'm not here to tell you \"Armored\" is Kubricki...                   2806   \n",
       "4  Most college students find themselves lost in ...                   1118   \n",
       "\n",
       "   num_words_review  num_sentence_review  label  \\\n",
       "0                52                    4      1   \n",
       "1               102                    5      0   \n",
       "2               280                   16      1   \n",
       "3               655                   42      1   \n",
       "4               207                    6      0   \n",
       "\n",
       "                                  transformed_review  \n",
       "0  energi vital go wrong busbi berkley film certa...  \n",
       "1  thoma ian griffith polish big buck actor grant...  \n",
       "2  film releas state beyond thought film divin st...  \n",
       "3  not tell armor kubrickian hitchcockian fellini...  \n",
       "4  colleg student find lost bubbl academia cut co...  "
      ]
     },
     "execution_count": 117,
     "metadata": {},
     "output_type": "execute_result"
    }
   ],
   "source": [
    "df.head()"
   ]
  },
  {
   "cell_type": "code",
   "execution_count": 118,
   "id": "e3c702c6",
   "metadata": {},
   "outputs": [],
   "source": [
    "#taking label column to last\n",
    "first_column = df.pop('label')\n",
    "df.insert(0, 'label', last_column)"
   ]
  },
  {
   "cell_type": "code",
   "execution_count": 119,
   "id": "0eb7ef73",
   "metadata": {},
   "outputs": [
    {
     "data": {
      "text/html": [
       "<div>\n",
       "<style scoped>\n",
       "    .dataframe tbody tr th:only-of-type {\n",
       "        vertical-align: middle;\n",
       "    }\n",
       "\n",
       "    .dataframe tbody tr th {\n",
       "        vertical-align: top;\n",
       "    }\n",
       "\n",
       "    .dataframe thead th {\n",
       "        text-align: right;\n",
       "    }\n",
       "</style>\n",
       "<table border=\"1\" class=\"dataframe\">\n",
       "  <thead>\n",
       "    <tr style=\"text-align: right;\">\n",
       "      <th></th>\n",
       "      <th>label</th>\n",
       "      <th>review</th>\n",
       "      <th>num_characters_review</th>\n",
       "      <th>num_words_review</th>\n",
       "      <th>num_sentence_review</th>\n",
       "      <th>transformed_review</th>\n",
       "    </tr>\n",
       "  </thead>\n",
       "  <tbody>\n",
       "    <tr>\n",
       "      <th>0</th>\n",
       "      <td>1</td>\n",
       "      <td>Such energy and vitality. You just can't go wr...</td>\n",
       "      <td>256</td>\n",
       "      <td>52</td>\n",
       "      <td>4</td>\n",
       "      <td>energi vital go wrong busbi berkley film certa...</td>\n",
       "    </tr>\n",
       "    <tr>\n",
       "      <th>1</th>\n",
       "      <td>0</td>\n",
       "      <td>but Thomas Ian Griffith just doesn't have the ...</td>\n",
       "      <td>482</td>\n",
       "      <td>102</td>\n",
       "      <td>5</td>\n",
       "      <td>thoma ian griffith polish big buck actor grant...</td>\n",
       "    </tr>\n",
       "    <tr>\n",
       "      <th>2</th>\n",
       "      <td>1</td>\n",
       "      <td>Why this film was only released in 4 states is...</td>\n",
       "      <td>1343</td>\n",
       "      <td>280</td>\n",
       "      <td>16</td>\n",
       "      <td>film releas state beyond thought film divin st...</td>\n",
       "    </tr>\n",
       "    <tr>\n",
       "      <th>3</th>\n",
       "      <td>1</td>\n",
       "      <td>I'm not here to tell you \"Armored\" is Kubricki...</td>\n",
       "      <td>2806</td>\n",
       "      <td>655</td>\n",
       "      <td>42</td>\n",
       "      <td>not tell armor kubrickian hitchcockian fellini...</td>\n",
       "    </tr>\n",
       "    <tr>\n",
       "      <th>4</th>\n",
       "      <td>0</td>\n",
       "      <td>Most college students find themselves lost in ...</td>\n",
       "      <td>1118</td>\n",
       "      <td>207</td>\n",
       "      <td>6</td>\n",
       "      <td>colleg student find lost bubbl academia cut co...</td>\n",
       "    </tr>\n",
       "  </tbody>\n",
       "</table>\n",
       "</div>"
      ],
      "text/plain": [
       "   label                                             review  \\\n",
       "0      1  Such energy and vitality. You just can't go wr...   \n",
       "1      0  but Thomas Ian Griffith just doesn't have the ...   \n",
       "2      1  Why this film was only released in 4 states is...   \n",
       "3      1  I'm not here to tell you \"Armored\" is Kubricki...   \n",
       "4      0  Most college students find themselves lost in ...   \n",
       "\n",
       "   num_characters_review  num_words_review  num_sentence_review  \\\n",
       "0                    256                52                    4   \n",
       "1                    482               102                    5   \n",
       "2                   1343               280                   16   \n",
       "3                   2806               655                   42   \n",
       "4                   1118               207                    6   \n",
       "\n",
       "                                  transformed_review  \n",
       "0  energi vital go wrong busbi berkley film certa...  \n",
       "1  thoma ian griffith polish big buck actor grant...  \n",
       "2  film releas state beyond thought film divin st...  \n",
       "3  not tell armor kubrickian hitchcockian fellini...  \n",
       "4  colleg student find lost bubbl academia cut co...  "
      ]
     },
     "execution_count": 119,
     "metadata": {},
     "output_type": "execute_result"
    }
   ],
   "source": [
    "df.head()"
   ]
  },
  {
   "cell_type": "code",
   "execution_count": 401,
   "id": "0a9b49e5",
   "metadata": {},
   "outputs": [],
   "source": [
    "from sklearn.feature_extraction.text import CountVectorizer\n",
    "cv = CountVectorizer(max_features=3000)\n",
    "x = cv.fit_transform(df['transformed_review']).toarray()\n",
    "y = df['label']"
   ]
  },
  {
   "cell_type": "code",
   "execution_count": 402,
   "id": "9d083a1f",
   "metadata": {},
   "outputs": [
    {
     "data": {
      "text/plain": [
       "(3000,)"
      ]
     },
     "execution_count": 402,
     "metadata": {},
     "output_type": "execute_result"
    }
   ],
   "source": [
    "x[0].shape"
   ]
  },
  {
   "cell_type": "code",
   "execution_count": 403,
   "id": "f2e7ca7f",
   "metadata": {},
   "outputs": [],
   "source": [
    "from sklearn.model_selection import train_test_split\n",
    "x_train,x_test,y_train,y_test = train_test_split(x, y, test_size = 0.20, random_state = 1)"
   ]
  },
  {
   "cell_type": "code",
   "execution_count": 404,
   "id": "0568d5be",
   "metadata": {},
   "outputs": [
    {
     "data": {
      "text/plain": [
       "LogisticRegression()"
      ]
     },
     "execution_count": 404,
     "metadata": {},
     "output_type": "execute_result"
    }
   ],
   "source": [
    "from sklearn.linear_model import LogisticRegression\n",
    "lr = LogisticRegression()\n",
    "lr.fit(x_train,y_train)"
   ]
  },
  {
   "cell_type": "code",
   "execution_count": 405,
   "id": "102d50af",
   "metadata": {},
   "outputs": [],
   "source": [
    "y_pred = lr.predict(x_test)"
   ]
  },
  {
   "cell_type": "code",
   "execution_count": 406,
   "id": "d3021872",
   "metadata": {},
   "outputs": [
    {
     "data": {
      "text/plain": [
       "array([1, 0, 1, 1, 0, 1, 1, 0, 0, 0, 1, 0, 0, 0, 1, 1, 1, 1, 0, 1, 0, 1,\n",
       "       0, 1, 0, 0, 0, 0, 1, 1, 1, 0, 1, 0, 1, 0, 1, 1, 0, 1, 1, 1, 1, 0,\n",
       "       0, 0, 0, 0, 1, 1, 0, 1, 0, 1, 0, 0, 0, 0, 1, 0, 1, 0, 1, 1, 1, 0,\n",
       "       1, 0, 1, 1, 1, 1, 0, 0, 1, 1, 0, 0, 1, 0, 0, 0, 1, 1, 1, 0, 0, 1,\n",
       "       0, 0, 1, 0, 1, 1, 0, 0, 1, 0, 1, 1, 0, 0, 0, 1, 0, 0, 1, 1, 1, 0,\n",
       "       0, 0, 0, 0, 0, 1, 0, 1, 1, 1, 0, 0, 0, 1, 1, 0, 1, 1, 1, 1, 0, 1,\n",
       "       0, 1, 1, 0, 1, 1, 0, 0, 0, 0, 0, 1, 1, 0, 0, 1, 1, 1, 1, 0, 0, 1,\n",
       "       0, 1, 0, 0, 1, 1, 0, 1, 1, 1, 1, 1, 1, 0, 0, 0, 1, 0, 0, 1, 0, 1,\n",
       "       1, 0, 1, 0, 1, 1, 1, 1, 0, 0, 1, 0, 1, 0, 0, 0, 0, 0, 0, 0, 1, 0,\n",
       "       0, 1], dtype=int64)"
      ]
     },
     "execution_count": 406,
     "metadata": {},
     "output_type": "execute_result"
    }
   ],
   "source": [
    "y_pred"
   ]
  },
  {
   "cell_type": "code",
   "execution_count": 407,
   "id": "c5d0765c",
   "metadata": {},
   "outputs": [
    {
     "name": "stdout",
     "output_type": "stream",
     "text": [
      "[[86 14]\n",
      " [15 85]]\n",
      "0.855\n",
      "0.8585858585858586\n"
     ]
    }
   ],
   "source": [
    "from sklearn.metrics import confusion_matrix,accuracy_score,precision_score\n",
    "c_matrix = confusion_matrix(y_test,y_pred)\n",
    "print(c_matrix)\n",
    "print(accuracy_score(y_test,y_pred))\n",
    "print(precision_score(y_test,y_pred))"
   ]
  },
  {
   "cell_type": "markdown",
   "id": "2805f44a",
   "metadata": {},
   "source": [
    "# Naive bayes"
   ]
  },
  {
   "cell_type": "code",
   "execution_count": 393,
   "id": "9cf91a5b",
   "metadata": {},
   "outputs": [],
   "source": [
    "from sklearn.feature_extraction.text import CountVectorizer\n",
    "cv = CountVectorizer(max_features=1000)\n",
    "x_n = cv.fit_transform(df['transformed_review']).toarray()\n",
    "y_n = df['label']"
   ]
  },
  {
   "cell_type": "code",
   "execution_count": 394,
   "id": "01b9a602",
   "metadata": {},
   "outputs": [],
   "source": [
    "from sklearn.model_selection import train_test_split\n",
    "x_n_train,x_n_test,y_n_train,y_n_test = train_test_split(x_n, y_n, test_size = 0.20, random_state = 1)"
   ]
  },
  {
   "cell_type": "code",
   "execution_count": 395,
   "id": "fd485da1",
   "metadata": {},
   "outputs": [],
   "source": [
    "from sklearn.naive_bayes import GaussianNB,MultinomialNB,BernoulliNB\n",
    "gnb = GaussianNB()\n",
    "mnb = MultinomialNB()\n",
    "bnb = BernoulliNB()"
   ]
  },
  {
   "cell_type": "code",
   "execution_count": 396,
   "id": "7c77c4ee",
   "metadata": {},
   "outputs": [
    {
     "data": {
      "text/plain": [
       "BernoulliNB()"
      ]
     },
     "execution_count": 396,
     "metadata": {},
     "output_type": "execute_result"
    }
   ],
   "source": [
    "gnb.fit(x_n_train,y_n_train)\n",
    "mnb.fit(x_n_train,y_n_train)\n",
    "bnb.fit(x_n_train,y_n_train)"
   ]
  },
  {
   "cell_type": "code",
   "execution_count": 397,
   "id": "18b9c2e3",
   "metadata": {},
   "outputs": [],
   "source": [
    "y_gnb_predict = gnb.predict(x_n_test)\n",
    "y_mnb_predict = mnb.predict(x_n_test)\n",
    "y_bnb_predict = bnb.predict(x_n_test)"
   ]
  },
  {
   "cell_type": "code",
   "execution_count": 398,
   "id": "da27ece2",
   "metadata": {},
   "outputs": [
    {
     "name": "stdout",
     "output_type": "stream",
     "text": [
      "[[83 17]\n",
      " [25 75]]\n",
      "0.79\n",
      "0.8152173913043478\n"
     ]
    }
   ],
   "source": [
    "from sklearn.metrics import confusion_matrix,accuracy_score,precision_score\n",
    "c_gnb_matrix = confusion_matrix(y_n_test,y_gnb_predict)\n",
    "print(c_gnb_matrix)\n",
    "print(accuracy_score(y_n_test,y_gnb_predict))\n",
    "print(precision_score(y_n_test,y_gnb_predict))"
   ]
  },
  {
   "cell_type": "code",
   "execution_count": 399,
   "id": "15584951",
   "metadata": {},
   "outputs": [
    {
     "name": "stdout",
     "output_type": "stream",
     "text": [
      "[[86 14]\n",
      " [11 89]]\n",
      "0.875\n",
      "0.8640776699029126\n"
     ]
    }
   ],
   "source": [
    "c_mnb_matrix = confusion_matrix(y_n_test,y_mnb_predict)\n",
    "print(c_mnb_matrix)\n",
    "print(accuracy_score(y_n_test,y_mnb_predict))\n",
    "print(precision_score(y_n_test,y_mnb_predict))"
   ]
  },
  {
   "cell_type": "code",
   "execution_count": 400,
   "id": "ef1b1db0",
   "metadata": {},
   "outputs": [
    {
     "name": "stdout",
     "output_type": "stream",
     "text": [
      "[[90 10]\n",
      " [13 87]]\n",
      "0.885\n",
      "0.8969072164948454\n"
     ]
    }
   ],
   "source": [
    "c_bnb_matrix = confusion_matrix(y_n_test,y_bnb_predict)\n",
    "print(c_bnb_matrix)\n",
    "print(accuracy_score(y_n_test,y_bnb_predict))\n",
    "print(precision_score(y_n_test,y_bnb_predict))"
   ]
  },
  {
   "cell_type": "markdown",
   "id": "01189e51",
   "metadata": {},
   "source": [
    "# TFIDF"
   ]
  },
  {
   "cell_type": "code",
   "execution_count": 429,
   "id": "05cbbd46",
   "metadata": {},
   "outputs": [],
   "source": [
    "from sklearn.feature_extraction.text import TfidfVectorizer\n",
    "tfidf = TfidfVectorizer(max_features=1000)\n",
    "x_tf = tfidf.fit_transform(df['transformed_review']).toarray()\n",
    "y_tf = df['label']"
   ]
  },
  {
   "cell_type": "code",
   "execution_count": 437,
   "id": "a8b28188",
   "metadata": {},
   "outputs": [],
   "source": [
    "from sklearn.model_selection import train_test_split\n",
    "x_tf_train,x_tf_test,y_tf_train,y_tf_test = train_test_split(x_tf, y_tf, test_size = 0.20, random_state = 1)"
   ]
  },
  {
   "cell_type": "code",
   "execution_count": 438,
   "id": "bd0b6f67",
   "metadata": {},
   "outputs": [],
   "source": [
    "from sklearn.naive_bayes import GaussianNB,MultinomialNB,BernoulliNB\n",
    "gnb = GaussianNB()\n",
    "mnb = MultinomialNB()\n",
    "bnb = BernoulliNB()"
   ]
  },
  {
   "cell_type": "code",
   "execution_count": 439,
   "id": "cb8d6653",
   "metadata": {},
   "outputs": [
    {
     "data": {
      "text/plain": [
       "BernoulliNB()"
      ]
     },
     "execution_count": 439,
     "metadata": {},
     "output_type": "execute_result"
    }
   ],
   "source": [
    "gnb.fit(x_tf_train,y_tf_train)\n",
    "mnb.fit(x_tf_train,y_tf_train)\n",
    "bnb.fit(x_tf_train,y_tf_train)"
   ]
  },
  {
   "cell_type": "code",
   "execution_count": 440,
   "id": "04d8b7bf",
   "metadata": {},
   "outputs": [],
   "source": [
    "y_gnb_predict_tf = gnb.predict(x_tf_test)\n",
    "y_mnb_predict_tf = mnb.predict(x_tf_test)\n",
    "y_bnb_predict_tf = bnb.predict(x_tf_test)"
   ]
  },
  {
   "cell_type": "code",
   "execution_count": 441,
   "id": "0d7f57ea",
   "metadata": {},
   "outputs": [
    {
     "name": "stdout",
     "output_type": "stream",
     "text": [
      "[[82 18]\n",
      " [23 77]]\n",
      "0.795\n",
      "0.8105263157894737\n"
     ]
    }
   ],
   "source": [
    "from sklearn.metrics import confusion_matrix,accuracy_score,precision_score\n",
    "c_gnb_matrix_tf  = confusion_matrix(y_tf_test,y_gnb_predict_tf)\n",
    "print(c_gnb_matrix_tf)\n",
    "print(accuracy_score(y_tf_test,y_gnb_predict_tf))\n",
    "print(precision_score(y_tf_test,y_gnb_predict_tf))"
   ]
  },
  {
   "cell_type": "code",
   "execution_count": 442,
   "id": "234c70ca",
   "metadata": {},
   "outputs": [
    {
     "name": "stdout",
     "output_type": "stream",
     "text": [
      "[[89 11]\n",
      " [11 89]]\n",
      "0.89\n",
      "0.89\n"
     ]
    }
   ],
   "source": [
    "c_mnb_matrix_tf = confusion_matrix(y_tf_test,y_mnb_predict_tf)\n",
    "print(c_mnb_matrix_tf)\n",
    "print(accuracy_score(y_tf_test,y_mnb_predict_tf))\n",
    "print(precision_score(y_tf_test,y_mnb_predict_tf))"
   ]
  },
  {
   "cell_type": "code",
   "execution_count": 443,
   "id": "374d33a6",
   "metadata": {},
   "outputs": [
    {
     "name": "stdout",
     "output_type": "stream",
     "text": [
      "[[90 10]\n",
      " [13 87]]\n",
      "0.885\n",
      "0.8969072164948454\n"
     ]
    }
   ],
   "source": [
    "c_bnb_matrix_tf = confusion_matrix(y_tf_test,y_bnb_predict_tf)\n",
    "print(c_bnb_matrix_tf)\n",
    "print(accuracy_score(y_tf_test,y_bnb_predict_tf))\n",
    "print(precision_score(y_tf_test,y_bnb_predict_tf))"
   ]
  },
  {
   "cell_type": "markdown",
   "id": "39756b28",
   "metadata": {},
   "source": [
    "# find out best features for more accuracy"
   ]
  },
  {
   "cell_type": "code",
   "execution_count": 126,
   "id": "d75e2907",
   "metadata": {},
   "outputs": [],
   "source": [
    "from sklearn.feature_extraction.text import CountVectorizer\n",
    "from sklearn.model_selection import train_test_split\n",
    "from sklearn.naive_bayes import GaussianNB\n",
    "from sklearn.metrics import confusion_matrix,accuracy_score"
   ]
  },
  {
   "cell_type": "code",
   "execution_count": 148,
   "id": "2eb90544",
   "metadata": {},
   "outputs": [
    {
     "name": "stdout",
     "output_type": "stream",
     "text": [
      "0.81\n",
      "200\n",
      "[[32 10]\n",
      " [ 9 49]]\n",
      "0.81\n",
      "217\n",
      "[[32 10]\n",
      " [ 9 49]]\n",
      "0.81\n",
      "252\n",
      "[[32 10]\n",
      " [ 9 49]]\n",
      "0.81\n",
      "255\n",
      "[[32 10]\n",
      " [ 9 49]]\n",
      "0.81\n",
      "257\n",
      "[[33  9]\n",
      " [10 48]]\n",
      "0.82\n",
      "258\n",
      "[[31 11]\n",
      " [ 7 51]]\n",
      "0.82\n",
      "259\n",
      "[[31 11]\n",
      " [ 7 51]]\n",
      "0.82\n",
      "260\n",
      "[[31 11]\n",
      " [ 7 51]]\n",
      "0.82\n",
      "261\n",
      "[[31 11]\n",
      " [ 7 51]]\n",
      "0.81\n",
      "262\n",
      "[[30 12]\n",
      " [ 7 51]]\n",
      "0.81\n",
      "263\n",
      "[[30 12]\n",
      " [ 7 51]]\n",
      "0.81\n",
      "264\n",
      "[[30 12]\n",
      " [ 7 51]]\n",
      "0.81\n",
      "265\n",
      "[[30 12]\n",
      " [ 7 51]]\n",
      "0.81\n",
      "301\n",
      "[[29 13]\n",
      " [ 6 52]]\n",
      "0.81\n",
      "302\n",
      "[[29 13]\n",
      " [ 6 52]]\n",
      "0.81\n",
      "303\n",
      "[[29 13]\n",
      " [ 6 52]]\n",
      "0.81\n",
      "304\n",
      "[[29 13]\n",
      " [ 6 52]]\n",
      "0.81\n",
      "305\n",
      "[[29 13]\n",
      " [ 6 52]]\n",
      "0.81\n",
      "306\n",
      "[[29 13]\n",
      " [ 6 52]]\n",
      "0.81\n",
      "307\n",
      "[[29 13]\n",
      " [ 6 52]]\n",
      "0.81\n",
      "373\n",
      "[[30 12]\n",
      " [ 7 51]]\n",
      "0.81\n",
      "374\n",
      "[[30 12]\n",
      " [ 7 51]]\n",
      "0.81\n",
      "375\n",
      "[[30 12]\n",
      " [ 7 51]]\n",
      "0.81\n",
      "376\n",
      "[[30 12]\n",
      " [ 7 51]]\n",
      "0.81\n",
      "379\n",
      "[[30 12]\n",
      " [ 7 51]]\n",
      "0.81\n",
      "382\n",
      "[[30 12]\n",
      " [ 7 51]]\n",
      "0.81\n",
      "383\n",
      "[[30 12]\n",
      " [ 7 51]]\n",
      "0.81\n",
      "384\n",
      "[[30 12]\n",
      " [ 7 51]]\n",
      "0.81\n",
      "385\n",
      "[[30 12]\n",
      " [ 7 51]]\n",
      "0.81\n",
      "386\n",
      "[[30 12]\n",
      " [ 7 51]]\n",
      "0.81\n",
      "388\n",
      "[[31 11]\n",
      " [ 8 50]]\n",
      "0.81\n",
      "408\n",
      "[[30 12]\n",
      " [ 7 51]]\n",
      "0.81\n",
      "752\n",
      "[[36  6]\n",
      " [13 45]]\n",
      "0.81\n",
      "753\n",
      "[[36  6]\n",
      " [13 45]]\n"
     ]
    }
   ],
   "source": [
    "for i in range(100,12000):\n",
    "    cv = CountVectorizer(max_features=i)\n",
    "    x_n = cv.fit_transform(all_review).toarray()\n",
    "    y_n = df['label']\n",
    "    x_n_train,x_n_test,y_n_train,y_n_test = train_test_split(x_n, y_n, test_size = 0.10, random_state = 0)\n",
    "    gnb = GaussianNB()\n",
    "    gnb.fit(x_n_train,y_n_train)\n",
    "    y_n_predict = gnb.predict(x_n_test)\n",
    "    c_n_matrix = confusion_matrix(y_n_test,y_n_predict)\n",
    "    a_s = accuracy_score(y_n_test,y_n_predict)\n",
    "    if a_s>0.85:\n",
    "        print(a_s)\n",
    "        print(i)\n",
    "        print(c_n_matrix)\n",
    "        break\n",
    "    elif 0.80 < a_s < 0.85:\n",
    "        print(a_s)\n",
    "        print(i)\n",
    "        print(c_n_matrix)\n",
    "        continue\n",
    "        "
   ]
  },
  {
   "cell_type": "markdown",
   "id": "5cf55117",
   "metadata": {},
   "source": [
    "# test with other classification algorithm"
   ]
  },
  {
   "cell_type": "code",
   "execution_count": 650,
   "id": "d6d4d6f4",
   "metadata": {},
   "outputs": [],
   "source": [
    "tfidf1 = TfidfVectorizer(max_features=1000)\n",
    "X = tfidf1.fit_transform(df['transformed_review']).toarray()\n",
    "y = df['label']"
   ]
  },
  {
   "cell_type": "code",
   "execution_count": 651,
   "id": "215c5eca",
   "metadata": {},
   "outputs": [],
   "source": [
    "X_train,X_test,y_train,y_test = train_test_split(X, y, test_size = 0.20, random_state = 1)"
   ]
  },
  {
   "cell_type": "code",
   "execution_count": 652,
   "id": "7323697e",
   "metadata": {},
   "outputs": [],
   "source": [
    "from sklearn.linear_model import LogisticRegression\n",
    "from sklearn.svm import SVC\n",
    "from sklearn.naive_bayes import GaussianNB,MultinomialNB,BernoulliNB\n",
    "from sklearn.tree import DecisionTreeClassifier\n",
    "from sklearn.neighbors import KNeighborsClassifier\n",
    "from sklearn.ensemble import RandomForestClassifier\n",
    "from sklearn.ensemble import AdaBoostClassifier\n",
    "from sklearn.ensemble import BaggingClassifier\n",
    "from sklearn.ensemble import ExtraTreesClassifier\n",
    "from sklearn.ensemble import GradientBoostingClassifier\n",
    "from xgboost import XGBClassifier"
   ]
  },
  {
   "cell_type": "code",
   "execution_count": 653,
   "id": "9d8fd7f0",
   "metadata": {},
   "outputs": [],
   "source": [
    "svc = SVC(kernel='sigmoid', gamma=1.0)\n",
    "knc = KNeighborsClassifier()\n",
    "gnb = GaussianNB()\n",
    "mnb = MultinomialNB()\n",
    "bnb = BernoulliNB()\n",
    "dtc = DecisionTreeClassifier(max_depth=5)\n",
    "lrc = LogisticRegression(solver='liblinear', penalty='l1')\n",
    "rfc = RandomForestClassifier(n_estimators=50, random_state=2)\n",
    "abc = AdaBoostClassifier(n_estimators=50, random_state=2)\n",
    "bc = BaggingClassifier(n_estimators=50, random_state=2)\n",
    "etc = ExtraTreesClassifier(n_estimators=50, random_state=2)\n",
    "gbdt = GradientBoostingClassifier(n_estimators=50,random_state=2)\n",
    "xgb = XGBClassifier(n_estimators=50,random_state=2)"
   ]
  },
  {
   "cell_type": "code",
   "execution_count": 654,
   "id": "f5dd0a83",
   "metadata": {},
   "outputs": [],
   "source": [
    "clfs = {\n",
    "    'SVC' : svc,\n",
    "    'KN' : knc,\n",
    "    'GNB': gnb,\n",
    "    'MNB': mnb,\n",
    "    'BNB': bnb, \n",
    "    'DT': dtc, \n",
    "    'LR': lrc, \n",
    "    'RF': rfc, \n",
    "    'AdaBoost': abc, \n",
    "    'BgC': bc, \n",
    "    'ETC': etc,\n",
    "    'GBDT':gbdt,\n",
    "    'xgb':xgb\n",
    "}"
   ]
  },
  {
   "cell_type": "code",
   "execution_count": 655,
   "id": "15c52cda",
   "metadata": {},
   "outputs": [],
   "source": [
    "def train_classifier(clf,X_train,y_train,X_test,y_test):\n",
    "    clf.fit(X_train,y_train)\n",
    "    y_pred = clf.predict(X_test)\n",
    "    accuracy = accuracy_score(y_test,y_pred)\n",
    "    precision = precision_score(y_test,y_pred)\n",
    "    \n",
    "    return accuracy,precision"
   ]
  },
  {
   "cell_type": "code",
   "execution_count": 656,
   "id": "e2bcf3c4",
   "metadata": {},
   "outputs": [
    {
     "data": {
      "text/plain": [
       "(0.855, 0.865979381443299)"
      ]
     },
     "execution_count": 656,
     "metadata": {},
     "output_type": "execute_result"
    }
   ],
   "source": [
    "train_classifier(svc,X_train,y_train,X_test,y_test)"
   ]
  },
  {
   "cell_type": "code",
   "execution_count": 657,
   "id": "b4d851c8",
   "metadata": {},
   "outputs": [
    {
     "name": "stdout",
     "output_type": "stream",
     "text": [
      "For  SVC\n",
      "Accuracy -  0.855\n",
      "Precision -  0.865979381443299\n",
      "For  KN\n",
      "Accuracy -  0.635\n",
      "Precision -  0.6956521739130435\n",
      "For  GNB\n",
      "Accuracy -  0.795\n",
      "Precision -  0.8105263157894737\n",
      "For  MNB\n",
      "Accuracy -  0.89\n",
      "Precision -  0.89\n",
      "For  BNB\n",
      "Accuracy -  0.885\n",
      "Precision -  0.8969072164948454\n",
      "For  DT\n",
      "Accuracy -  0.61\n",
      "Precision -  0.5743243243243243\n",
      "For  LR\n",
      "Accuracy -  0.765\n",
      "Precision -  0.7623762376237624\n",
      "For  RF\n",
      "Accuracy -  0.785\n",
      "Precision -  0.8\n",
      "For  AdaBoost\n",
      "Accuracy -  0.78\n",
      "Precision -  0.7857142857142857\n",
      "For  BgC\n",
      "Accuracy -  0.745\n",
      "Precision -  0.7333333333333333\n",
      "For  ETC\n",
      "Accuracy -  0.845\n",
      "Precision -  0.896551724137931\n",
      "For  GBDT\n",
      "Accuracy -  0.8\n",
      "Precision -  0.8191489361702128\n",
      "[11:50:30] WARNING: C:/Users/Administrator/workspace/xgboost-win64_release_1.5.1/src/learner.cc:1115: Starting in XGBoost 1.3.0, the default evaluation metric used with the objective 'binary:logistic' was changed from 'error' to 'logloss'. Explicitly set eval_metric if you'd like to restore the old behavior.\n"
     ]
    },
    {
     "name": "stderr",
     "output_type": "stream",
     "text": [
      "D:\\E-drive\\ineuron\\nlp by sridhar\\sentiment_analysis\\env\\lib\\site-packages\\xgboost\\sklearn.py:1224: UserWarning: The use of label encoder in XGBClassifier is deprecated and will be removed in a future release. To remove this warning, do the following: 1) Pass option use_label_encoder=False when constructing XGBClassifier object; and 2) Encode your labels (y) as integers starting with 0, i.e. 0, 1, 2, ..., [num_class - 1].\n",
      "  warnings.warn(label_encoder_deprecation_msg, UserWarning)\n"
     ]
    },
    {
     "name": "stdout",
     "output_type": "stream",
     "text": [
      "For  xgb\n",
      "Accuracy -  0.76\n",
      "Precision -  0.76\n"
     ]
    }
   ],
   "source": [
    "accuracy_scores = []\n",
    "precision_scores = []\n",
    "\n",
    "for name,clf in clfs.items():\n",
    "    \n",
    "    current_accuracy,current_precision = train_classifier(clf, X_train,y_train,X_test,y_test)\n",
    "    \n",
    "    print(\"For \",name)\n",
    "    print(\"Accuracy - \",current_accuracy)\n",
    "    print(\"Precision - \",current_precision)\n",
    "    \n",
    "    accuracy_scores.append(current_accuracy)\n",
    "    precision_scores.append(current_precision)"
   ]
  },
  {
   "cell_type": "code",
   "execution_count": 533,
   "id": "64a5a3ea",
   "metadata": {},
   "outputs": [],
   "source": [
    "performance_df = pd.DataFrame({'Algorithm':clfs.keys(),'Accuracy':accuracy_scores,'Precision':precision_scores}).sort_values('Precision',ascending=False)"
   ]
  },
  {
   "cell_type": "code",
   "execution_count": 534,
   "id": "5af9e12a",
   "metadata": {},
   "outputs": [
    {
     "data": {
      "text/html": [
       "<div>\n",
       "<style scoped>\n",
       "    .dataframe tbody tr th:only-of-type {\n",
       "        vertical-align: middle;\n",
       "    }\n",
       "\n",
       "    .dataframe tbody tr th {\n",
       "        vertical-align: top;\n",
       "    }\n",
       "\n",
       "    .dataframe thead th {\n",
       "        text-align: right;\n",
       "    }\n",
       "</style>\n",
       "<table border=\"1\" class=\"dataframe\">\n",
       "  <thead>\n",
       "    <tr style=\"text-align: right;\">\n",
       "      <th></th>\n",
       "      <th>Algorithm</th>\n",
       "      <th>Accuracy</th>\n",
       "      <th>Precision</th>\n",
       "    </tr>\n",
       "  </thead>\n",
       "  <tbody>\n",
       "    <tr>\n",
       "      <th>3</th>\n",
       "      <td>MNB</td>\n",
       "      <td>0.800</td>\n",
       "      <td>0.968750</td>\n",
       "    </tr>\n",
       "    <tr>\n",
       "      <th>4</th>\n",
       "      <td>BNB</td>\n",
       "      <td>0.800</td>\n",
       "      <td>0.941176</td>\n",
       "    </tr>\n",
       "    <tr>\n",
       "      <th>0</th>\n",
       "      <td>SVC</td>\n",
       "      <td>0.870</td>\n",
       "      <td>0.862745</td>\n",
       "    </tr>\n",
       "    <tr>\n",
       "      <th>10</th>\n",
       "      <td>ETC</td>\n",
       "      <td>0.835</td>\n",
       "      <td>0.860215</td>\n",
       "    </tr>\n",
       "    <tr>\n",
       "      <th>7</th>\n",
       "      <td>RF</td>\n",
       "      <td>0.775</td>\n",
       "      <td>0.823529</td>\n",
       "    </tr>\n",
       "    <tr>\n",
       "      <th>12</th>\n",
       "      <td>xgb</td>\n",
       "      <td>0.785</td>\n",
       "      <td>0.776699</td>\n",
       "    </tr>\n",
       "    <tr>\n",
       "      <th>6</th>\n",
       "      <td>LR</td>\n",
       "      <td>0.770</td>\n",
       "      <td>0.754717</td>\n",
       "    </tr>\n",
       "    <tr>\n",
       "      <th>8</th>\n",
       "      <td>AdaBoost</td>\n",
       "      <td>0.755</td>\n",
       "      <td>0.752475</td>\n",
       "    </tr>\n",
       "    <tr>\n",
       "      <th>11</th>\n",
       "      <td>GBDT</td>\n",
       "      <td>0.740</td>\n",
       "      <td>0.744898</td>\n",
       "    </tr>\n",
       "    <tr>\n",
       "      <th>1</th>\n",
       "      <td>KN</td>\n",
       "      <td>0.670</td>\n",
       "      <td>0.736111</td>\n",
       "    </tr>\n",
       "    <tr>\n",
       "      <th>9</th>\n",
       "      <td>BgC</td>\n",
       "      <td>0.745</td>\n",
       "      <td>0.733333</td>\n",
       "    </tr>\n",
       "    <tr>\n",
       "      <th>5</th>\n",
       "      <td>DT</td>\n",
       "      <td>0.650</td>\n",
       "      <td>0.708333</td>\n",
       "    </tr>\n",
       "    <tr>\n",
       "      <th>2</th>\n",
       "      <td>GNB</td>\n",
       "      <td>0.630</td>\n",
       "      <td>0.644444</td>\n",
       "    </tr>\n",
       "  </tbody>\n",
       "</table>\n",
       "</div>"
      ],
      "text/plain": [
       "   Algorithm  Accuracy  Precision\n",
       "3        MNB     0.800   0.968750\n",
       "4        BNB     0.800   0.941176\n",
       "0        SVC     0.870   0.862745\n",
       "10       ETC     0.835   0.860215\n",
       "7         RF     0.775   0.823529\n",
       "12       xgb     0.785   0.776699\n",
       "6         LR     0.770   0.754717\n",
       "8   AdaBoost     0.755   0.752475\n",
       "11      GBDT     0.740   0.744898\n",
       "1         KN     0.670   0.736111\n",
       "9        BgC     0.745   0.733333\n",
       "5         DT     0.650   0.708333\n",
       "2        GNB     0.630   0.644444"
      ]
     },
     "execution_count": 534,
     "metadata": {},
     "output_type": "execute_result"
    }
   ],
   "source": [
    "performance_df"
   ]
  },
  {
   "cell_type": "code",
   "execution_count": 565,
   "id": "8962efb1",
   "metadata": {},
   "outputs": [],
   "source": [
    "temp_df = pd.DataFrame({'Algorithm':clfs.keys(),'Accuracy_max_ft_3000':accuracy_scores,'Precision_max_ft_3000':precision_scores}).sort_values('Precision_max_ft_3000')"
   ]
  },
  {
   "cell_type": "code",
   "execution_count": 566,
   "id": "a6787f4e",
   "metadata": {},
   "outputs": [],
   "source": [
    "new_df2 = new_df1.merge(temp_df,on='Algorithm')"
   ]
  },
  {
   "cell_type": "code",
   "execution_count": 567,
   "id": "6d5b405e",
   "metadata": {},
   "outputs": [
    {
     "data": {
      "text/html": [
       "<div>\n",
       "<style scoped>\n",
       "    .dataframe tbody tr th:only-of-type {\n",
       "        vertical-align: middle;\n",
       "    }\n",
       "\n",
       "    .dataframe tbody tr th {\n",
       "        vertical-align: top;\n",
       "    }\n",
       "\n",
       "    .dataframe thead th {\n",
       "        text-align: right;\n",
       "    }\n",
       "</style>\n",
       "<table border=\"1\" class=\"dataframe\">\n",
       "  <thead>\n",
       "    <tr style=\"text-align: right;\">\n",
       "      <th></th>\n",
       "      <th>Algorithm</th>\n",
       "      <th>Accuracy</th>\n",
       "      <th>Precision</th>\n",
       "      <th>Accuracy_max_ft_1000</th>\n",
       "      <th>Precision_max_ft_1000</th>\n",
       "      <th>Accuracy_max_ft_2000</th>\n",
       "      <th>Precision_max_ft_2000</th>\n",
       "      <th>Accuracy_max_ft_3000</th>\n",
       "      <th>Precision_max_ft_3000</th>\n",
       "    </tr>\n",
       "  </thead>\n",
       "  <tbody>\n",
       "    <tr>\n",
       "      <th>0</th>\n",
       "      <td>MNB</td>\n",
       "      <td>0.800</td>\n",
       "      <td>0.968750</td>\n",
       "      <td>0.890</td>\n",
       "      <td>0.890000</td>\n",
       "      <td>0.860</td>\n",
       "      <td>0.909091</td>\n",
       "      <td>0.855</td>\n",
       "      <td>0.938272</td>\n",
       "    </tr>\n",
       "    <tr>\n",
       "      <th>1</th>\n",
       "      <td>BNB</td>\n",
       "      <td>0.800</td>\n",
       "      <td>0.941176</td>\n",
       "      <td>0.885</td>\n",
       "      <td>0.896907</td>\n",
       "      <td>0.865</td>\n",
       "      <td>0.910112</td>\n",
       "      <td>0.820</td>\n",
       "      <td>0.890244</td>\n",
       "    </tr>\n",
       "    <tr>\n",
       "      <th>2</th>\n",
       "      <td>SVC</td>\n",
       "      <td>0.870</td>\n",
       "      <td>0.862745</td>\n",
       "      <td>0.855</td>\n",
       "      <td>0.865979</td>\n",
       "      <td>0.865</td>\n",
       "      <td>0.861386</td>\n",
       "      <td>0.880</td>\n",
       "      <td>0.865385</td>\n",
       "    </tr>\n",
       "    <tr>\n",
       "      <th>3</th>\n",
       "      <td>ETC</td>\n",
       "      <td>0.835</td>\n",
       "      <td>0.860215</td>\n",
       "      <td>0.845</td>\n",
       "      <td>0.896552</td>\n",
       "      <td>0.815</td>\n",
       "      <td>0.831579</td>\n",
       "      <td>0.855</td>\n",
       "      <td>0.873684</td>\n",
       "    </tr>\n",
       "    <tr>\n",
       "      <th>4</th>\n",
       "      <td>RF</td>\n",
       "      <td>0.775</td>\n",
       "      <td>0.823529</td>\n",
       "      <td>0.785</td>\n",
       "      <td>0.800000</td>\n",
       "      <td>0.795</td>\n",
       "      <td>0.792079</td>\n",
       "      <td>0.775</td>\n",
       "      <td>0.795699</td>\n",
       "    </tr>\n",
       "    <tr>\n",
       "      <th>5</th>\n",
       "      <td>xgb</td>\n",
       "      <td>0.785</td>\n",
       "      <td>0.776699</td>\n",
       "      <td>0.760</td>\n",
       "      <td>0.760000</td>\n",
       "      <td>0.785</td>\n",
       "      <td>0.787879</td>\n",
       "      <td>0.780</td>\n",
       "      <td>0.811111</td>\n",
       "    </tr>\n",
       "    <tr>\n",
       "      <th>6</th>\n",
       "      <td>LR</td>\n",
       "      <td>0.770</td>\n",
       "      <td>0.754717</td>\n",
       "      <td>0.765</td>\n",
       "      <td>0.762376</td>\n",
       "      <td>0.770</td>\n",
       "      <td>0.759615</td>\n",
       "      <td>0.750</td>\n",
       "      <td>0.735849</td>\n",
       "    </tr>\n",
       "    <tr>\n",
       "      <th>7</th>\n",
       "      <td>AdaBoost</td>\n",
       "      <td>0.755</td>\n",
       "      <td>0.752475</td>\n",
       "      <td>0.780</td>\n",
       "      <td>0.785714</td>\n",
       "      <td>0.735</td>\n",
       "      <td>0.737374</td>\n",
       "      <td>0.715</td>\n",
       "      <td>0.704762</td>\n",
       "    </tr>\n",
       "    <tr>\n",
       "      <th>8</th>\n",
       "      <td>GBDT</td>\n",
       "      <td>0.740</td>\n",
       "      <td>0.744898</td>\n",
       "      <td>0.800</td>\n",
       "      <td>0.819149</td>\n",
       "      <td>0.780</td>\n",
       "      <td>0.759259</td>\n",
       "      <td>0.765</td>\n",
       "      <td>0.757282</td>\n",
       "    </tr>\n",
       "    <tr>\n",
       "      <th>9</th>\n",
       "      <td>KN</td>\n",
       "      <td>0.670</td>\n",
       "      <td>0.736111</td>\n",
       "      <td>0.635</td>\n",
       "      <td>0.695652</td>\n",
       "      <td>0.655</td>\n",
       "      <td>0.746032</td>\n",
       "      <td>0.650</td>\n",
       "      <td>0.708333</td>\n",
       "    </tr>\n",
       "    <tr>\n",
       "      <th>10</th>\n",
       "      <td>BgC</td>\n",
       "      <td>0.745</td>\n",
       "      <td>0.733333</td>\n",
       "      <td>0.745</td>\n",
       "      <td>0.733333</td>\n",
       "      <td>0.770</td>\n",
       "      <td>0.764706</td>\n",
       "      <td>0.760</td>\n",
       "      <td>0.750000</td>\n",
       "    </tr>\n",
       "    <tr>\n",
       "      <th>11</th>\n",
       "      <td>DT</td>\n",
       "      <td>0.650</td>\n",
       "      <td>0.708333</td>\n",
       "      <td>0.610</td>\n",
       "      <td>0.574324</td>\n",
       "      <td>0.615</td>\n",
       "      <td>0.577181</td>\n",
       "      <td>0.600</td>\n",
       "      <td>0.567568</td>\n",
       "    </tr>\n",
       "    <tr>\n",
       "      <th>12</th>\n",
       "      <td>GNB</td>\n",
       "      <td>0.630</td>\n",
       "      <td>0.644444</td>\n",
       "      <td>0.795</td>\n",
       "      <td>0.810526</td>\n",
       "      <td>0.690</td>\n",
       "      <td>0.756757</td>\n",
       "      <td>0.700</td>\n",
       "      <td>0.743902</td>\n",
       "    </tr>\n",
       "  </tbody>\n",
       "</table>\n",
       "</div>"
      ],
      "text/plain": [
       "   Algorithm  Accuracy  Precision  Accuracy_max_ft_1000  \\\n",
       "0        MNB     0.800   0.968750                 0.890   \n",
       "1        BNB     0.800   0.941176                 0.885   \n",
       "2        SVC     0.870   0.862745                 0.855   \n",
       "3        ETC     0.835   0.860215                 0.845   \n",
       "4         RF     0.775   0.823529                 0.785   \n",
       "5        xgb     0.785   0.776699                 0.760   \n",
       "6         LR     0.770   0.754717                 0.765   \n",
       "7   AdaBoost     0.755   0.752475                 0.780   \n",
       "8       GBDT     0.740   0.744898                 0.800   \n",
       "9         KN     0.670   0.736111                 0.635   \n",
       "10       BgC     0.745   0.733333                 0.745   \n",
       "11        DT     0.650   0.708333                 0.610   \n",
       "12       GNB     0.630   0.644444                 0.795   \n",
       "\n",
       "    Precision_max_ft_1000  Accuracy_max_ft_2000  Precision_max_ft_2000  \\\n",
       "0                0.890000                 0.860               0.909091   \n",
       "1                0.896907                 0.865               0.910112   \n",
       "2                0.865979                 0.865               0.861386   \n",
       "3                0.896552                 0.815               0.831579   \n",
       "4                0.800000                 0.795               0.792079   \n",
       "5                0.760000                 0.785               0.787879   \n",
       "6                0.762376                 0.770               0.759615   \n",
       "7                0.785714                 0.735               0.737374   \n",
       "8                0.819149                 0.780               0.759259   \n",
       "9                0.695652                 0.655               0.746032   \n",
       "10               0.733333                 0.770               0.764706   \n",
       "11               0.574324                 0.615               0.577181   \n",
       "12               0.810526                 0.690               0.756757   \n",
       "\n",
       "    Accuracy_max_ft_3000  Precision_max_ft_3000  \n",
       "0                  0.855               0.938272  \n",
       "1                  0.820               0.890244  \n",
       "2                  0.880               0.865385  \n",
       "3                  0.855               0.873684  \n",
       "4                  0.775               0.795699  \n",
       "5                  0.780               0.811111  \n",
       "6                  0.750               0.735849  \n",
       "7                  0.715               0.704762  \n",
       "8                  0.765               0.757282  \n",
       "9                  0.650               0.708333  \n",
       "10                 0.760               0.750000  \n",
       "11                 0.600               0.567568  \n",
       "12                 0.700               0.743902  "
      ]
     },
     "execution_count": 567,
     "metadata": {},
     "output_type": "execute_result"
    }
   ],
   "source": [
    "new_df2"
   ]
  },
  {
   "cell_type": "code",
   "execution_count": 642,
   "id": "20649144",
   "metadata": {},
   "outputs": [],
   "source": [
    "# Voting Classifier\n",
    "svc = SVC(kernel='sigmoid', gamma=1.0,probability=True)\n",
    "mnb = MultinomialNB()\n",
    "etc = ExtraTreesClassifier(n_estimators=50, random_state=2)\n",
    "\n",
    "from sklearn.ensemble import VotingClassifier"
   ]
  },
  {
   "cell_type": "code",
   "execution_count": 643,
   "id": "931d6ab4",
   "metadata": {},
   "outputs": [],
   "source": [
    "voting = VotingClassifier(estimators=[('svm', svc), ('nb', mnb), ('et', etc)],voting='soft')"
   ]
  },
  {
   "cell_type": "code",
   "execution_count": 644,
   "id": "8cf2db98",
   "metadata": {},
   "outputs": [
    {
     "data": {
      "text/plain": [
       "VotingClassifier(estimators=[('svm',\n",
       "                              SVC(gamma=1.0, kernel='sigmoid',\n",
       "                                  probability=True)),\n",
       "                             ('nb', MultinomialNB()),\n",
       "                             ('et',\n",
       "                              ExtraTreesClassifier(n_estimators=50,\n",
       "                                                   random_state=2))],\n",
       "                 voting='soft')"
      ]
     },
     "execution_count": 644,
     "metadata": {},
     "output_type": "execute_result"
    }
   ],
   "source": [
    "voting.fit(X_train,y_train)"
   ]
  },
  {
   "cell_type": "code",
   "execution_count": 645,
   "id": "abdcb870",
   "metadata": {},
   "outputs": [
    {
     "name": "stdout",
     "output_type": "stream",
     "text": [
      "Accuracy 0.88\n",
      "Precision 0.8958333333333334\n"
     ]
    }
   ],
   "source": [
    "y_pred = voting.predict(X_test)\n",
    "print(\"Accuracy\",accuracy_score(y_test,y_pred))\n",
    "print(\"Precision\",precision_score(y_test,y_pred))"
   ]
  },
  {
   "cell_type": "code",
   "execution_count": 647,
   "id": "efad2b14",
   "metadata": {},
   "outputs": [],
   "source": [
    "# Applying stacking\n",
    "estimators=[('svm', svc), ('nb', mnb), ('et', etc)]\n",
    "final_estimator=RandomForestClassifier()\n",
    "from sklearn.ensemble import StackingClassifier"
   ]
  },
  {
   "cell_type": "code",
   "execution_count": 648,
   "id": "46897a4a",
   "metadata": {},
   "outputs": [],
   "source": [
    "clf = StackingClassifier(estimators=estimators, final_estimator=final_estimator)"
   ]
  },
  {
   "cell_type": "code",
   "execution_count": 649,
   "id": "a3458b7a",
   "metadata": {},
   "outputs": [
    {
     "name": "stdout",
     "output_type": "stream",
     "text": [
      "Accuracy 0.875\n",
      "Precision 0.8787878787878788\n"
     ]
    }
   ],
   "source": [
    "clf.fit(X_train,y_train)\n",
    "y_pred = clf.predict(X_test)\n",
    "print(\"Accuracy\",accuracy_score(y_test,y_pred))\n",
    "print(\"Precision\",precision_score(y_test,y_pred))"
   ]
  },
  {
   "cell_type": "markdown",
   "id": "667661d7",
   "metadata": {},
   "source": [
    "# Here save the pickle model for MNB.As we saw the dataset is a balanced one so we go for maximum accuracy"
   ]
  },
  {
   "cell_type": "code",
   "execution_count": 658,
   "id": "c9180d88",
   "metadata": {},
   "outputs": [],
   "source": [
    "import pickle\n",
    "pickle.dump(tfidf1,open('tfidf_vectorizer.pkl','wb'))\n",
    "pickle.dump(mnb,open('sentiment_model.pkl','wb'))"
   ]
  },
  {
   "cell_type": "code",
   "execution_count": null,
   "id": "96799d7c",
   "metadata": {},
   "outputs": [],
   "source": []
  }
 ],
 "metadata": {
  "kernelspec": {
   "display_name": "Python 3 (ipykernel)",
   "language": "python",
   "name": "python3"
  },
  "language_info": {
   "codemirror_mode": {
    "name": "ipython",
    "version": 3
   },
   "file_extension": ".py",
   "mimetype": "text/x-python",
   "name": "python",
   "nbconvert_exporter": "python",
   "pygments_lexer": "ipython3",
   "version": "3.7.11"
  }
 },
 "nbformat": 4,
 "nbformat_minor": 5
}
